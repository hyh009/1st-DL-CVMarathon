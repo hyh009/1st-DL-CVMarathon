{
  "nbformat": 4,
  "nbformat_minor": 0,
  "metadata": {
    "kernelspec": {
      "display_name": "Python 3",
      "language": "python",
      "name": "python3"
    },
    "language_info": {
      "codemirror_mode": {
        "name": "ipython",
        "version": 3
      },
      "file_extension": ".py",
      "mimetype": "text/x-python",
      "name": "python",
      "nbconvert_exporter": "python",
      "pygments_lexer": "ipython3",
      "version": "3.6.5"
    },
    "colab": {
      "name": "Day013_HW.ipynb",
      "provenance": []
    }
  },
  "cells": [
    {
      "cell_type": "markdown",
      "metadata": {
        "id": "vEYcLyu4wob_"
      },
      "source": [
        "# PTT 網路爬蟲實作練習\n",
        "\n",
        "\n",
        "* 能夠利用 Request + BeatifulSour 撰寫爬蟲，並存放到合適的資料結構\n"
      ]
    },
    {
      "cell_type": "markdown",
      "metadata": {
        "id": "DJKfgKpawocC"
      },
      "source": [
        "## 作業目標\n",
        "\n",
        "根據範例 ，完成以下問題：\n",
        "\n",
        "* ① 印出最新文章的「作者」「標題」「時間」\n",
        "* ② 印出第一頁所有文章的「作者」「標題」「時間」\n"
      ]
    },
    {
      "cell_type": "markdown",
      "metadata": {
        "id": "vmPgebK3wocC"
      },
      "source": [
        "### ① 印出最新文章的「作者」「標題」「時間」"
      ]
    },
    {
      "cell_type": "code",
      "metadata": {
        "id": "wBRrUUUq6zU0"
      },
      "source": [
        "import requests\n",
        "from bs4 import BeautifulSoup\n",
        "from datetime import datetime"
      ],
      "execution_count": 1,
      "outputs": []
    },
    {
      "cell_type": "code",
      "metadata": {
        "id": "9_abzANTK80b"
      },
      "source": [
        "#需先執行②\n",
        "ptt_all = sorted(ptt_all,key=lambda x: x['時間'],reverse=True)"
      ],
      "execution_count": 6,
      "outputs": []
    },
    {
      "cell_type": "code",
      "metadata": {
        "colab": {
          "base_uri": "https://localhost:8080/"
        },
        "id": "WSmRm4FyMMmA",
        "outputId": "517402aa-9115-42c8-b2e1-865b2f7f8dd7"
      },
      "source": [
        "ptt_all[0]"
      ],
      "execution_count": 7,
      "outputs": [
        {
          "output_type": "execute_result",
          "data": {
            "text/plain": [
              "{'作者': 'Gotham',\n",
              " '時間': datetime.datetime(2021, 5, 25, 23, 58, 32),\n",
              " '標題': '[新聞] 泰隆魯證實防守將變陣 派雷納德主力盯防'}"
            ]
          },
          "metadata": {
            "tags": []
          },
          "execution_count": 7
        }
      ]
    },
    {
      "cell_type": "markdown",
      "metadata": {
        "id": "89vqFjrmwocD"
      },
      "source": [
        "### ② 印出第一頁所有文章的「作者」「標題」「時間」"
      ]
    },
    {
      "cell_type": "code",
      "metadata": {
        "id": "QM0DdsWGJ_zE"
      },
      "source": [
        "url = 'https://www.ptt.cc/bbs/NBA/index.html'\n",
        "res = requests.get(url)\n",
        "soup = BeautifulSoup(res.text,'html.parser')"
      ],
      "execution_count": 2,
      "outputs": []
    },
    {
      "cell_type": "code",
      "metadata": {
        "id": "ll5-QX047caj"
      },
      "source": [
        "article_tag = soup.select('div.r-ent')"
      ],
      "execution_count": 3,
      "outputs": []
    },
    {
      "cell_type": "code",
      "metadata": {
        "colab": {
          "base_uri": "https://localhost:8080/"
        },
        "id": "lm_V4O-bwocE",
        "outputId": "5f0d1252-a6ae-48bb-f3d2-bd469bf760bf"
      },
      "source": [
        "ptt_all = []\n",
        "for tag in article_tag:\n",
        "  try:\n",
        "      ptt={}\n",
        "      temp = tag.select_one('a')\n",
        "      new_url = 'https://www.ptt.cc'+temp['href']\n",
        "      new_res = requests.get(new_url)\n",
        "      soup2 = BeautifulSoup(new_res.text,'html.parser')\n",
        "      time = soup2.select('div.article-metaline')[-1].text.replace('時間','')\n",
        "      time = datetime.strptime(time, \"%a %b %d %H:%M:%S %Y\")\n",
        "\n",
        "      ptt['作者'] = tag.select_one('div.author').text\n",
        "      ptt['標題'] = tag.select_one('a').text\n",
        "      ptt['時間'] = time\n",
        "      print(tag.select_one('div.author').text)\n",
        "      print(tag.select_one('a').text)\n",
        "      print(time)\n",
        "      ptt_all.append(ptt)\n",
        "  except:\n",
        "      pass"
      ],
      "execution_count": 5,
      "outputs": [
        {
          "output_type": "stream",
          "text": [
            "thnlkj0665\n",
            "[情報] 本季例行賽共計11人達成全勤出賽\n",
            "2021-05-25 21:54:49\n",
            "Induction\n",
            "[公告] 水桶*3\n",
            "2021-05-25 22:27:03\n",
            "hvariables\n",
            "[專欄]佐蒙德成狩獵目標？湖人雙塔組合的攻守盲點\n",
            "2021-05-25 22:59:06\n",
            "rallen34\n",
            "[板務] 板主行為與自由心證的板規\n",
            "2021-05-25 23:07:05\n",
            "Vedan\n",
            "[板務] 建議新增檢舉板及板主任期制\n",
            "2021-05-25 23:57:20\n",
            "Gotham\n",
            "[新聞] 泰隆魯證實防守將變陣 派雷納德主力盯防\n",
            "2021-05-25 23:58:32\n",
            "laptic\n",
            "[情報] Playoffs Schedule 20–21\n",
            "2021-05-19 00:35:47\n",
            "laptic\n",
            "[情報] 2020-21 NBA Playoffs (Next：05/26 首輪G2 賽網/湖陽/獨艇)\n",
            "2021-05-17 12:01:32\n",
            "Induction\n",
            "[公告] 季後賽條款與置底檢舉區\n",
            "2021-05-24 04:02:16\n"
          ],
          "name": "stdout"
        }
      ]
    },
    {
      "cell_type": "markdown",
      "metadata": {
        "id": "y_25ibPXwocE"
      },
      "source": [
        "### ③ 試著爬爬看其他版的文章"
      ]
    },
    {
      "cell_type": "code",
      "metadata": {
        "id": "4VuEvLlIwocE"
      },
      "source": [
        "url = 'https://www.ptt.cc/bbs/Japandrama/index.html'\n",
        "res = requests.get(url)\n",
        "soup = BeautifulSoup(res.text)"
      ],
      "execution_count": 8,
      "outputs": []
    },
    {
      "cell_type": "code",
      "metadata": {
        "id": "EXM2a6DsA3rx"
      },
      "source": [
        "article_tag = soup.select('div.r-ent')"
      ],
      "execution_count": 9,
      "outputs": []
    },
    {
      "cell_type": "code",
      "metadata": {
        "colab": {
          "base_uri": "https://localhost:8080/"
        },
        "id": "H6s3r75VA5_6",
        "outputId": "804f8094-a830-4ab8-979c-4e08c334b043"
      },
      "source": [
        "for tag in article_tag:\n",
        "  print(tag.select_one('div.author').text)\n",
        "  print(tag.select_one('a').text)\n",
        "  print(tag.select_one('div.date').text)"
      ],
      "execution_count": 10,
      "outputs": [
        {
          "output_type": "stream",
          "text": [
            "ultmisia\n",
            "Re: [閒聊] 渡部篤郎跟椎名桔平\n",
            " 5/25\n",
            "ericyi\n",
            "[LIVE] TBS 着飾る恋には理由があって EP06 9PM\n",
            " 5/25\n",
            "coldeden\n",
            "[公告] 日劇版版規 2021.04.18\n",
            " 4/18\n",
            "coldeden\n",
            "[公告] 2021年5月份違規處理暨版務交流區\n",
            " 5/02\n",
            "coldeden\n",
            "[公告] 置底閒聊區 (2021春 第三篇)\n",
            " 5/02\n"
          ],
          "name": "stdout"
        }
      ]
    }
  ]
}