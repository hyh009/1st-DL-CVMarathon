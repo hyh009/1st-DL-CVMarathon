{
  "nbformat": 4,
  "nbformat_minor": 0,
  "metadata": {
    "kernelspec": {
      "display_name": "Python 3",
      "language": "python",
      "name": "python3"
    },
    "language_info": {
      "codemirror_mode": {
        "name": "ipython",
        "version": 3
      },
      "file_extension": ".py",
      "mimetype": "text/x-python",
      "name": "python",
      "nbconvert_exporter": "python",
      "pygments_lexer": "ipython3",
      "version": "3.6.5"
    },
    "colab": {
      "name": "Day013_HW.ipynb",
      "provenance": []
    }
  },
  "cells": [
    {
      "cell_type": "markdown",
      "metadata": {
        "id": "vEYcLyu4wob_"
      },
      "source": [
        "# PTT 網路爬蟲實作練習\n",
        "\n",
        "\n",
        "* 能夠利用 Request + BeatifulSour 撰寫爬蟲，並存放到合適的資料結構\n"
      ]
    },
    {
      "cell_type": "markdown",
      "metadata": {
        "id": "DJKfgKpawocC"
      },
      "source": [
        "## 作業目標\n",
        "\n",
        "根據範例 ，完成以下問題：\n",
        "\n",
        "* ① 印出最新文章的「作者」「標題」「時間」\n",
        "* ② 印出第一頁所有文章的「作者」「標題」「時間」\n"
      ]
    },
    {
      "cell_type": "markdown",
      "metadata": {
        "id": "vmPgebK3wocC"
      },
      "source": [
        "### ① 印出最新文章的「作者」「標題」「時間」"
      ]
    },
    {
      "cell_type": "code",
      "metadata": {
        "id": "wBRrUUUq6zU0"
      },
      "source": [
        "import requests\n",
        "from bs4 import BeautifulSoup"
      ],
      "execution_count": 1,
      "outputs": []
    },
    {
      "cell_type": "code",
      "metadata": {
        "id": "2xwhbUkMwocD"
      },
      "source": [
        "url = 'https://www.ptt.cc/bbs/NBA/index.html'\n",
        "res = requests.get(url)\n",
        "soup = BeautifulSoup(res.text,'html.parser')"
      ],
      "execution_count": 2,
      "outputs": []
    },
    {
      "cell_type": "code",
      "metadata": {
        "id": "xQtLSBjm_K8-"
      },
      "source": [
        "article_tag = soup.select_one('div.r-ent')"
      ],
      "execution_count": 25,
      "outputs": []
    },
    {
      "cell_type": "code",
      "metadata": {
        "colab": {
          "base_uri": "https://localhost:8080/"
        },
        "id": "sDPIUL2v_NeV",
        "outputId": "af9423b6-b898-4421-bbc0-61b086ff82b4"
      },
      "source": [
        "print(article_tag.select_one('a').text)\n",
        "print(article_tag.select_one('div.author').text)\n",
        "print(article_tag.select_one('div.date').text)"
      ],
      "execution_count": 26,
      "outputs": [
        {
          "output_type": "stream",
          "text": [
            "[情報] 本季例行賽共計11人達成全勤出賽\n",
            "thnlkj0665\n",
            " 5/25\n"
          ],
          "name": "stdout"
        }
      ]
    },
    {
      "cell_type": "code",
      "metadata": {
        "colab": {
          "base_uri": "https://localhost:8080/"
        },
        "id": "NIPgiCj_8uhf",
        "outputId": "520a1d4d-034b-4446-998d-53b42ef76d72"
      },
      "source": [
        "for tag in article_tag:\n",
        "  print(tag.select_one('a').text)\n",
        "  print(tag.select_one('div.author').text)\n",
        "  print(tag.select_one('div.date').text)\n"
      ],
      "execution_count": 24,
      "outputs": [
        {
          "output_type": "stream",
          "text": [
            "[情報] 本季例行賽共計11人達成全勤出賽\n",
            "thnlkj0665\n",
            " 5/25\n",
            "[情報] Playoffs Schedule 20–21\n",
            "laptic\n",
            " 5/19\n",
            "[情報] 2020-21 NBA Playoffs (Next：05/26 首輪G2 賽網/湖陽/獨艇)\n",
            "laptic\n",
            " 5/17\n",
            "[公告] 季後賽條款與置底檢舉區\n",
            "Induction\n",
            " 5/24\n",
            "[公告] 板規v6.9\n",
            "pneumo\n",
            " 5/24\n"
          ],
          "name": "stdout"
        }
      ]
    },
    {
      "cell_type": "markdown",
      "metadata": {
        "id": "89vqFjrmwocD"
      },
      "source": [
        "### ② 印出第一頁所有文章的「作者」「標題」「時間」"
      ]
    },
    {
      "cell_type": "code",
      "metadata": {
        "id": "ll5-QX047caj"
      },
      "source": [
        "article_tag = soup.select('div.r-ent')"
      ],
      "execution_count": 27,
      "outputs": []
    },
    {
      "cell_type": "code",
      "metadata": {
        "colab": {
          "base_uri": "https://localhost:8080/"
        },
        "id": "lm_V4O-bwocE",
        "outputId": "0696886d-a70e-4e46-d8e0-feadcafc2bfb"
      },
      "source": [
        "for tag in article_tag:\n",
        "  print(tag.select_one('div.author').text)\n",
        "  print(tag.select_one('a').text)\n",
        "  print(tag.select_one('div.date').text)"
      ],
      "execution_count": 29,
      "outputs": [
        {
          "output_type": "stream",
          "text": [
            "thnlkj0665\n",
            "[情報] 本季例行賽共計11人達成全勤出賽\n",
            " 5/25\n",
            "laptic\n",
            "[情報] Playoffs Schedule 20–21\n",
            " 5/19\n",
            "laptic\n",
            "[情報] 2020-21 NBA Playoffs (Next：05/26 首輪G2 賽網/湖陽/獨艇)\n",
            " 5/17\n",
            "Induction\n",
            "[公告] 季後賽條款與置底檢舉區\n",
            " 5/24\n",
            "pneumo\n",
            "[公告] 板規v6.9\n",
            " 5/24\n"
          ],
          "name": "stdout"
        }
      ]
    },
    {
      "cell_type": "markdown",
      "metadata": {
        "id": "y_25ibPXwocE"
      },
      "source": [
        "### ③ 試著爬爬看其他版的文章"
      ]
    },
    {
      "cell_type": "code",
      "metadata": {
        "id": "4VuEvLlIwocE"
      },
      "source": [
        "url = 'https://www.ptt.cc/bbs/Japandrama/index.html'\n",
        "res = requests.get(url)\n",
        "soup = BeautifulSoup(res.text)"
      ],
      "execution_count": 30,
      "outputs": []
    },
    {
      "cell_type": "code",
      "metadata": {
        "id": "EXM2a6DsA3rx"
      },
      "source": [
        "article_tag = soup.select('div.r-ent')"
      ],
      "execution_count": 32,
      "outputs": []
    },
    {
      "cell_type": "code",
      "metadata": {
        "colab": {
          "base_uri": "https://localhost:8080/"
        },
        "id": "H6s3r75VA5_6",
        "outputId": "73f129a1-355d-4ee9-f7c2-7a961959bb4a"
      },
      "source": [
        "for tag in article_tag:\n",
        "  print(tag.select_one('div.author').text)\n",
        "  print(tag.select_one('a').text)\n",
        "  print(tag.select_one('div.date').text)"
      ],
      "execution_count": 33,
      "outputs": [
        {
          "output_type": "stream",
          "text": [
            "ultmisia\n",
            "Re: [閒聊] 渡部篤郎跟椎名桔平\n",
            " 5/25\n",
            "ericyi\n",
            "[LIVE] TBS 着飾る恋には理由があって EP06 9PM\n",
            " 5/25\n",
            "coldeden\n",
            "[公告] 日劇版版規 2021.04.18\n",
            " 4/18\n",
            "coldeden\n",
            "[公告] 2021年5月份違規處理暨版務交流區\n",
            " 5/02\n",
            "coldeden\n",
            "[公告] 置底閒聊區 (2021春 第三篇)\n",
            " 5/02\n"
          ],
          "name": "stdout"
        }
      ]
    }
  ]
}