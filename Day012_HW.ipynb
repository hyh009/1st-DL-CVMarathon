{
  "nbformat": 4,
  "nbformat_minor": 0,
  "metadata": {
    "kernelspec": {
      "display_name": "Python 3",
      "language": "python",
      "name": "python3"
    },
    "language_info": {
      "codemirror_mode": {
        "name": "ipython",
        "version": 3
      },
      "file_extension": ".py",
      "mimetype": "text/x-python",
      "name": "python",
      "nbconvert_exporter": "python",
      "pygments_lexer": "ipython3",
      "version": "3.6.5"
    },
    "colab": {
      "name": "Day012_HW.ipynb",
      "provenance": []
    }
  },
  "cells": [
    {
      "cell_type": "markdown",
      "metadata": {
        "id": "6JvB4Rg_TFNN"
      },
      "source": [
        "# Ettoday 網路爬蟲實作練習\n",
        "\n",
        "\n",
        "* 能夠利用 Request + BeatifulSoup 撰寫爬蟲，並存放到合適的資料結構\n"
      ]
    },
    {
      "cell_type": "markdown",
      "metadata": {
        "id": "Ee5rnw9JTFNQ"
      },
      "source": [
        "## 作業目標\n",
        "\n",
        "根據範例 ，完成以下問題：\n",
        "\n",
        "* ① 取出今天所有的發文\n",
        "* ② 如果想要依照類別分類，怎麼儲存會比較好？\n",
        "* ③ 哪一個類別的文章最多\n",
        "\n",
        "\n"
      ]
    },
    {
      "cell_type": "markdown",
      "metadata": {
        "id": "wTCfXZTWTFNR"
      },
      "source": [
        "### ① 取出今天所有的發文"
      ]
    },
    {
      "cell_type": "code",
      "metadata": {
        "scrolled": false,
        "id": "dfxhWIaCTFNR"
      },
      "source": [
        "import requests\n",
        "from bs4 import BeautifulSoup\n",
        "url = 'https://www.ettoday.net/news/news-list.htm'\n",
        "res = requests.get(url)\n",
        "soup = BeautifulSoup(res.text,'html.parser')"
      ],
      "execution_count": 1,
      "outputs": []
    },
    {
      "cell_type": "code",
      "metadata": {
        "id": "1gZ0L6JMkWvj"
      },
      "source": [
        "news = []\n",
        "for tag in soup.select('h3'):\n",
        "    try:\n",
        "        news_dict={}\n",
        "        news_class = tag.select_one('em').text\n",
        "        title = tag.select_one('a').text\n",
        "        news_dict['class'] = news_class\n",
        "        news_dict['title'] = title\n",
        "        news.append(news_dict)\n",
        "    except:\n",
        "        pass"
      ],
      "execution_count": 2,
      "outputs": []
    },
    {
      "cell_type": "markdown",
      "metadata": {
        "id": "M16545HsTFNS"
      },
      "source": [
        "### ② 如果想要依照類別分類，怎麼儲存會比較好？"
      ]
    },
    {
      "cell_type": "code",
      "metadata": {
        "colab": {
          "base_uri": "https://localhost:8080/",
          "height": 197
        },
        "id": "ZqFjTyWrTFNT",
        "outputId": "f5b28ee6-0c2a-4b93-ecca-468e5ca4afa6"
      },
      "source": [
        "import pandas as pd\n",
        "df = pd.DataFrame.from_dict(news)\n",
        "df.head()"
      ],
      "execution_count": 3,
      "outputs": [
        {
          "output_type": "execute_result",
          "data": {
            "text/html": [
              "<div>\n",
              "<style scoped>\n",
              "    .dataframe tbody tr th:only-of-type {\n",
              "        vertical-align: middle;\n",
              "    }\n",
              "\n",
              "    .dataframe tbody tr th {\n",
              "        vertical-align: top;\n",
              "    }\n",
              "\n",
              "    .dataframe thead th {\n",
              "        text-align: right;\n",
              "    }\n",
              "</style>\n",
              "<table border=\"1\" class=\"dataframe\">\n",
              "  <thead>\n",
              "    <tr style=\"text-align: right;\">\n",
              "      <th></th>\n",
              "      <th>class</th>\n",
              "      <th>title</th>\n",
              "    </tr>\n",
              "  </thead>\n",
              "  <tbody>\n",
              "    <tr>\n",
              "      <th>0</th>\n",
              "      <td>生活</td>\n",
              "      <td>林瑋豐疑搞認知作戰！指揮中心要辦了　陳宗彥：已交給刑事局</td>\n",
              "    </tr>\n",
              "    <tr>\n",
              "      <th>1</th>\n",
              "      <td>政治</td>\n",
              "      <td>中央稱尚有7300多劑疫苗　北市回擊「局內剩2瓶」：別營造充足假象</td>\n",
              "    </tr>\n",
              "    <tr>\n",
              "      <th>2</th>\n",
              "      <td>政治</td>\n",
              "      <td>向醫護致敬！韓國瑜送醫院營養補充品　韓粉讚：他是最佳領導者</td>\n",
              "    </tr>\n",
              "    <tr>\n",
              "      <th>3</th>\n",
              "      <td>生活</td>\n",
              "      <td>阿婆「臨時供水站」洗衣！她勸阻反被罵　傻眼：開到最大又一直漏</td>\n",
              "    </tr>\n",
              "    <tr>\n",
              "      <th>4</th>\n",
              "      <td>時尚</td>\n",
              "      <td>每天小酌紅酒、不用節食就能瘦！營養師傳授「地中海飲食」懶人包</td>\n",
              "    </tr>\n",
              "  </tbody>\n",
              "</table>\n",
              "</div>"
            ],
            "text/plain": [
              "  class                              title\n",
              "0    生活       林瑋豐疑搞認知作戰！指揮中心要辦了　陳宗彥：已交給刑事局\n",
              "1    政治  中央稱尚有7300多劑疫苗　北市回擊「局內剩2瓶」：別營造充足假象\n",
              "2    政治      向醫護致敬！韓國瑜送醫院營養補充品　韓粉讚：他是最佳領導者\n",
              "3    生活     阿婆「臨時供水站」洗衣！她勸阻反被罵　傻眼：開到最大又一直漏\n",
              "4    時尚    每天小酌紅酒、不用節食就能瘦！營養師傳授「地中海飲食」懶人包　"
            ]
          },
          "metadata": {
            "tags": []
          },
          "execution_count": 3
        }
      ]
    },
    {
      "cell_type": "markdown",
      "metadata": {
        "id": "qP6TbYNDTFNT"
      },
      "source": [
        "### ③ 哪一個類別的文章最多"
      ]
    },
    {
      "cell_type": "code",
      "metadata": {
        "scrolled": true,
        "colab": {
          "base_uri": "https://localhost:8080/"
        },
        "id": "9UwSWgSaTFNT",
        "outputId": "853fe819-9f7e-47ec-af51-0b7c190b0444"
      },
      "source": [
        "df['class'].value_counts(ascending=False)"
      ],
      "execution_count": 4,
      "outputs": [
        {
          "output_type": "execute_result",
          "data": {
            "text/plain": [
              "影劇      20\n",
              "生活      15\n",
              "財經      10\n",
              "政治      10\n",
              "體育       8\n",
              "社會       6\n",
              "地方       6\n",
              "旅遊       4\n",
              "寵物動物     4\n",
              "國際       4\n",
              "時尚       3\n",
              "網搜       2\n",
              "ET車雲     2\n",
              "法律       2\n",
              "軍武       1\n",
              "消費       1\n",
              "房產雲      1\n",
              "論壇       1\n",
              "Name: class, dtype: int64"
            ]
          },
          "metadata": {
            "tags": []
          },
          "execution_count": 4
        }
      ]
    }
  ]
}