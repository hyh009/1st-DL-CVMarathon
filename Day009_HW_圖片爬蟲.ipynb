{
  "nbformat": 4,
  "nbformat_minor": 0,
  "metadata": {
    "kernelspec": {
      "display_name": "Python 3",
      "language": "python",
      "name": "python3"
    },
    "language_info": {
      "codemirror_mode": {
        "name": "ipython",
        "version": 3
      },
      "file_extension": ".py",
      "mimetype": "text/x-python",
      "name": "python",
      "nbconvert_exporter": "python",
      "pygments_lexer": "ipython3",
      "version": "3.6.9"
    },
    "colab": {
      "name": "Day009_HW.ipynb",
      "provenance": []
    }
  },
  "cells": [
    {
      "cell_type": "markdown",
      "metadata": {
        "id": "yIj2s0r5nOX4"
      },
      "source": [
        "# 作業\n",
        "\n",
        "以正確的副檔名下載網頁中的圖片\n",
        "範例網頁:https://www.ptt.cc/bbs/Beauty/M.1556291059.A.75A.html\n",
        "\n",
        "Note：因為 PTT 會詢問「是否滿 18 歲」，這邊可以用 cookies 繞過\n",
        "\n",
        "`requests.get(URL, cookies={'over18': '1'}`\n"
      ]
    },
    {
      "cell_type": "code",
      "metadata": {
        "id": "ftu2WX7QnOX7"
      },
      "source": [
        "import requests\n",
        "import os\n",
        "\n",
        "from bs4 import BeautifulSoup\n",
        "from PIL import Image"
      ],
      "execution_count": null,
      "outputs": []
    },
    {
      "cell_type": "code",
      "metadata": {
        "id": "AIdJNGyXnOX8"
      },
      "source": [
        "url = 'https://www.ptt.cc/bbs/Beauty/M.1556291059.A.75A.html'\n",
        "resp = requests.get(url, cookies={'over18': '1'})\n",
        "soup = BeautifulSoup(resp.text,'html.parser')"
      ],
      "execution_count": null,
      "outputs": []
    },
    {
      "cell_type": "code",
      "metadata": {
        "colab": {
          "base_uri": "https://localhost:8080/"
        },
        "id": "RVmtWoKAnOX8",
        "outputId": "58e1a242-aeec-4dc7-9ade-430b4af06918"
      },
      "source": [
        "# 決定要儲存的資料夾\n",
        "output_dir = 'downloads'\n",
        "\n",
        "# 假如資料夾不存在就新增一個資料夾\n",
        "if not os.path.exists(output_dir):\n",
        "    os.makedirs(output_dir)\n",
        "\n",
        "# 定位所有圖片的 tag\n",
        "image_tags = soup.select('div.richcontent a[href]')\n",
        "for img_tag in image_tags:\n",
        "    # 取得所有圖片在第三方服務的 id\n",
        "    if 'imgur' not in img_tag['href']:\n",
        "        continue\n",
        "    # 組合圖片而非網站的網址\n",
        "    img_id = img_tag['href'].split('/')[-1]\n",
        "    img_url = f'https://imgur.com/{img_id}.jpg'\n",
        "\n",
        "    # 對圖片送出請求\n",
        "    with requests.get(img_url, stream=True) as r:\n",
        "        # 若過程中有error發生，回傳 HTTPError object \n",
        "        r.raise_for_status()\n",
        "        # 檢查圖片副檔名\n",
        "        img = Image.open(r.raw)\n",
        "        img_savename = '{outdir}/{img_id}.{img_ext}'.format(\n",
        "            outdir=output_dir, img_id=img_id, img_ext=img.format.lower())\n",
        "        img.save(img_savename)\n",
        "        print('Save image {}'.format(img_savename))"
      ],
      "execution_count": 77,
      "outputs": [
        {
          "output_type": "stream",
          "text": [
            "Save image downloads/Cgb5oo1.jpeg\n",
            "Save image downloads/MgjHY4f.jpeg\n",
            "Save image downloads/yeoRtAs.jpeg\n",
            "Save image downloads/wsauNEW.jpeg\n",
            "Save image downloads/IjiETcs.jpeg\n"
          ],
          "name": "stdout"
        }
      ]
    }
  ]
}