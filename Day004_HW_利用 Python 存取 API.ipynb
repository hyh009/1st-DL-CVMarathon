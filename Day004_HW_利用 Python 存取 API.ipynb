{
 "cells": [
  {
   "cell_type": "markdown",
   "metadata": {
    "colab_type": "text",
    "id": "uSf0mVenUdOf"
   },
   "source": [
    "# 利用 Python 存取 API\n",
    "\n",
    "\n",
    "* 了解 Server Client 的架構與溝通方法\n",
    "* 知道 HTTP Request & Response 的內容\n",
    "* 什麼是 API？如何用 Python 程式存取 API 資料\n"
   ]
  },
  {
   "cell_type": "markdown",
   "metadata": {
    "colab_type": "text",
    "id": "FwvxVPZuUdOh"
   },
   "source": [
    "## 作業目標\n",
    "\n",
    "* 比較一下範例檔案中的「r.text」與「json.loads(r.text)」讀出來的內容有什麼差異\n",
    "* 自行尋找一個合適的 API 接口做練習，並且查看其回傳內容\n",
    "    * https://cat-fact.herokuapp.com/facts (來源：https://alexwohlbruck.github.io/cat-facts/)\n",
    "    * http://odata.wra.gov.tw/v4/RealtimeWaterLevel (來源：https://data.gov.tw/dataset/25768)\n",
    "\n"
   ]
  },
  {
   "cell_type": "markdown",
   "metadata": {
    "colab_type": "text",
    "id": "r5GIjwYuUdOi"
   },
   "source": [
    "### 比較一下範例檔案中的「r.text」與「json.loads(r.text)」讀出來的內容有什麼差異"
   ]
  },
  {
   "cell_type": "markdown",
   "metadata": {
    "colab_type": "text",
    "id": "eJwMGD6XUdOn"
   },
   "source": [
    "### 自行尋找一個合適的 API 接口做練習，並且查看其回傳內容\n",
    "\n",
    "* https://cat-fact.herokuapp.com/facts (來源：https://alexwohlbruck.github.io/cat-facts/)\n",
    "* http://odata.wra.gov.tw/v4/RealtimeWaterLevel (來源：https://data.gov.tw/dataset/25768)\n"
   ]
  },
  {
   "cell_type": "code",
   "execution_count": 10,
   "metadata": {
    "colab": {},
    "colab_type": "code",
    "id": "XDvzxwA0UdOn",
    "outputId": "154b29e6-cd0d-48b9-e659-6e9a3f55e274"
   },
   "outputs": [
    {
     "name": "stdout",
     "output_type": "stream",
     "text": [
      "[{\"status\":{\"verified\":true,\"sentCount\":1,\"feedback\":\"\"},\"type\":\"cat\",\"deleted\":false,\"_id\":\"5887e1d85c873e0011036889\",\"user\":\"5a9ac18c7478810ea6c06381\",\"text\":\"Cats make about 100 different sounds. Dogs make only about 10.\",\"__v\":0,\"source\":\"user\",\"updatedAt\":\"2020-09-03T16:39:39.578Z\",\"createdAt\":\"2018-01-15T21:20:00.003Z\",\"used\":true},{\"status\":{\"verified\":true,\"sentCount\":1},\"type\":\"cat\",\"deleted\":false,\"_id\":\"588e746706ac2b00110e59ff\",\"user\":\"588e6e8806ac2b00110e59c3\",\"text\":\"Domestic cats spend about 70 percent of the day sleeping and 15 percent of the day grooming.\",\"__v\":0,\"source\":\"user\",\"updatedAt\":\"2020-08-26T20:20:02.359Z\",\"createdAt\":\"2018-01-14T21:20:02.750Z\",\"used\":true},{\"status\":{\"verified\":true,\"sentCount\":1},\"type\":\"cat\",\"deleted\":false,\"_id\":\"58923f2fc3878c0011784c79\",\"user\":\"5887e9f65c873e001103688d\",\"text\":\"I don't know anything about cats.\",\"__v\":0,\"source\":\"user\",\"updatedAt\":\"2020-08-23T20:20:01.611Z\",\"createdAt\":\"2018-02-25T21:20:03.060Z\",\"used\":false},{\"status\":{\"verified\":true,\"sentCount\":1},\"type\":\"cat\",\"deleted\":false,\"_id\":\"5894af975cdc7400113ef7f9\",\"user\":\"5a9ac18c7478810ea6c06381\",\"text\":\"The technical term for a cat’s hairball is a bezoar.\",\"__v\":0,\"source\":\"user\",\"updatedAt\":\"2020-11-25T21:20:03.895Z\",\"createdAt\":\"2018-02-27T21:20:02.854Z\",\"used\":true},{\"status\":{\"verified\":true,\"sentCount\":1},\"type\":\"cat\",\"deleted\":false,\"_id\":\"58e007cc0aac31001185ecf5\",\"user\":\"58e007480aac31001185ecef\",\"text\":\"Cats are the most popular pet in the United States: There are 88 million pet cats and 74 million dogs.\",\"__v\":0,\"source\":\"user\",\"updatedAt\":\"2020-08-23T20:20:01.611Z\",\"createdAt\":\"2018-03-01T21:20:02.713Z\",\"used\":false}]\n"
     ]
    }
   ],
   "source": [
    "import requests\n",
    "url = \"https://cat-fact.herokuapp.com/facts\"\n",
    "r = requests.get(url)\n",
    "print(r.text)"
   ]
  },
  {
   "cell_type": "code",
   "execution_count": 11,
   "metadata": {
    "colab": {},
    "colab_type": "code",
    "id": "RPISC-Y4UdOq"
   },
   "outputs": [
    {
     "name": "stdout",
     "output_type": "stream",
     "text": [
      "[{'status': {'verified': True, 'sentCount': 1, 'feedback': ''}, 'type': 'cat', 'deleted': False, '_id': '5887e1d85c873e0011036889', 'user': '5a9ac18c7478810ea6c06381', 'text': 'Cats make about 100 different sounds. Dogs make only about 10.', '__v': 0, 'source': 'user', 'updatedAt': '2020-09-03T16:39:39.578Z', 'createdAt': '2018-01-15T21:20:00.003Z', 'used': True}, {'status': {'verified': True, 'sentCount': 1}, 'type': 'cat', 'deleted': False, '_id': '588e746706ac2b00110e59ff', 'user': '588e6e8806ac2b00110e59c3', 'text': 'Domestic cats spend about 70 percent of the day sleeping and 15 percent of the day grooming.', '__v': 0, 'source': 'user', 'updatedAt': '2020-08-26T20:20:02.359Z', 'createdAt': '2018-01-14T21:20:02.750Z', 'used': True}, {'status': {'verified': True, 'sentCount': 1}, 'type': 'cat', 'deleted': False, '_id': '58923f2fc3878c0011784c79', 'user': '5887e9f65c873e001103688d', 'text': \"I don't know anything about cats.\", '__v': 0, 'source': 'user', 'updatedAt': '2020-08-23T20:20:01.611Z', 'createdAt': '2018-02-25T21:20:03.060Z', 'used': False}, {'status': {'verified': True, 'sentCount': 1}, 'type': 'cat', 'deleted': False, '_id': '5894af975cdc7400113ef7f9', 'user': '5a9ac18c7478810ea6c06381', 'text': 'The technical term for a cat’s hairball is a bezoar.', '__v': 0, 'source': 'user', 'updatedAt': '2020-11-25T21:20:03.895Z', 'createdAt': '2018-02-27T21:20:02.854Z', 'used': True}, {'status': {'verified': True, 'sentCount': 1}, 'type': 'cat', 'deleted': False, '_id': '58e007cc0aac31001185ecf5', 'user': '58e007480aac31001185ecef', 'text': 'Cats are the most popular pet in the United States: There are 88 million pet cats and 74 million dogs.', '__v': 0, 'source': 'user', 'updatedAt': '2020-08-23T20:20:01.611Z', 'createdAt': '2018-03-01T21:20:02.713Z', 'used': False}]\n"
     ]
    }
   ],
   "source": [
    "import json\n",
    "print(json.loads(r.text))"
   ]
  },
  {
   "cell_type": "code",
   "execution_count": 6,
   "metadata": {
    "colab": {},
    "colab_type": "code",
    "id": "H5EyeQRIUdOr"
   },
   "outputs": [
    {
     "data": {
      "text/plain": [
       "'{\"@odata.context\": \"http://odata.wra.gov.tw/v4/$metadata#RealtimeWaterLevel\",\\n\"@odata.count\": 0,\\n\"value\": []}'"
      ]
     },
     "execution_count": 6,
     "metadata": {},
     "output_type": "execute_result"
    }
   ],
   "source": [
    "url2 = \"http://odata.wra.gov.tw/v4/RealtimeWaterLevel\"\n",
    "r2 = requests.get(url2)\n",
    "r2.text"
   ]
  },
  {
   "cell_type": "code",
   "execution_count": 7,
   "metadata": {},
   "outputs": [
    {
     "data": {
      "text/plain": [
       "{'@odata.context': 'http://odata.wra.gov.tw/v4/$metadata#RealtimeWaterLevel',\n",
       " '@odata.count': 0,\n",
       " 'value': []}"
      ]
     },
     "execution_count": 7,
     "metadata": {},
     "output_type": "execute_result"
    }
   ],
   "source": [
    "json.loads(r2.text)"
   ]
  }
 ],
 "metadata": {
  "colab": {
   "name": "homework.ipynb",
   "provenance": []
  },
  "kernelspec": {
   "display_name": "Python 3",
   "language": "python",
   "name": "python3"
  },
  "language_info": {
   "codemirror_mode": {
    "name": "ipython",
    "version": 3
   },
   "file_extension": ".py",
   "mimetype": "text/x-python",
   "name": "python",
   "nbconvert_exporter": "python",
   "pygments_lexer": "ipython3",
   "version": "3.8.5"
  }
 },
 "nbformat": 4,
 "nbformat_minor": 1
}
