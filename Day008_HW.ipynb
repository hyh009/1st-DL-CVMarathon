{
  "nbformat": 4,
  "nbformat_minor": 0,
  "metadata": {
    "kernelspec": {
      "display_name": "Python 3",
      "language": "python",
      "name": "python3"
    },
    "language_info": {
      "codemirror_mode": {
        "name": "ipython",
        "version": 3
      },
      "file_extension": ".py",
      "mimetype": "text/x-python",
      "name": "python",
      "nbconvert_exporter": "python",
      "pygments_lexer": "ipython3",
      "version": "3.6.5"
    },
    "colab": {
      "name": "Day008_HW.ipynb",
      "provenance": []
    }
  },
  "cells": [
    {
      "cell_type": "markdown",
      "metadata": {
        "id": "jEIz_WW7L9Ex"
      },
      "source": [
        "# 靜態網頁的資料爬蟲策略\n",
        "\n",
        "\n",
        "* 了解靜態網頁的資料爬蟲策略\n",
        "* 認識適用於靜態網頁爬蟲的相關套件工具：Request\n",
        "* 認識適用於靜態網頁爬蟲的相關套件工具：BeatifulSoup"
      ]
    },
    {
      "cell_type": "markdown",
      "metadata": {
        "id": "XTfgEQNAL9E0"
      },
      "source": [
        "## 作業目標\n",
        "\n",
        "利用 Request + BeatifulSoup 爬取下列兩個網站內容並解析：\n",
        "\n",
        "1. Dcared 網址： https://www.dcard.tw/f\n",
        "2. 知乎： https://www.zhihu.com/explore\n",
        "\n",
        "並且回答下面問題：\n",
        "\n",
        "1. Request 取回之後該怎麼取出資料，資料型態是什麼？\n",
        "2. 為什麼要使用 BeatifulSoup 處理？處理後的型態是什麼？\n",
        "3. 觀察一下知乎回來的資料好像有點怪怪的，該怎麼解決？"
      ]
    },
    {
      "cell_type": "markdown",
      "metadata": {
        "id": "RQkvtBFpL9E1"
      },
      "source": [
        "### 1. Dcard 網址： https://www.dcard.tw/f"
      ]
    },
    {
      "cell_type": "code",
      "metadata": {
        "id": "1I2CdF1qL9E1"
      },
      "source": [
        "import requests\n",
        "from bs4 import BeautifulSoup"
      ],
      "execution_count": 1,
      "outputs": []
    },
    {
      "cell_type": "code",
      "metadata": {
        "colab": {
          "base_uri": "https://localhost:8080/"
        },
        "id": "F5dM8xcEMjCJ",
        "outputId": "bde036b9-107d-4a6e-8df4-a6b6c6726da3"
      },
      "source": [
        "url = 'https://www.dcard.tw/f'\n",
        "\n",
        "r = requests.get(url)\n",
        "\n",
        "r.encoding = 'utf-8'\n",
        "print(r.text[0:3000])"
      ],
      "execution_count": 17,
      "outputs": [
        {
          "output_type": "stream",
          "text": [
            "<!DOCTYPE html><html lang=\"zh-TW\"><head prefix=\"og: http://ogp.me/ns#\" itemscope=\"\" itemType=\"https://schema.org/WebSite\"><meta http-equiv=\"X-UA-Compatible\" content=\"IE=edge\"/><meta name=\"apple-mobile-web-app-status-bar-style\" content=\"default\"/><meta name=\"theme-color\" content=\"#006aa6\"/><meta name=\"mobile-web-app-capable\" content=\"yes\"/><meta name=\"apple-mobile-web-app-capable\" content=\"yes\"/><meta name=\"supported-color-schemes\" content=\"light\"/><meta property=\"fb:app_id\" content=\"211628828926493\"/><meta property=\"fb:pages\" content=\"178875832200695,577748865730563,1333515469994506,619122564952487,804004803032067,178024805867764\"/><link rel=\"preconnect\" href=\"https://fonts.googleapis.com\" crossorigin=\"true\"/><link rel=\"preconnect\" href=\"https://fonts.gstatic.com\" crossorigin=\"true\"/><link rel=\"dns-prefetch\" href=\"https://fonts.googleapis.com\"/><link rel=\"dns-prefetch\" href=\"https://fonts.gstatic.com\"/><link rel=\"dns-prefetch\" href=\"https://megapx-assets.dcard.tw\"/><link rel=\"dns-prefetch\" href=\"https://gcs.dcard.tw\"/><link rel=\"dns-prefetch\" href=\"https://imgur.dcard.tw\"/><link rel=\"preload\" href=\"https://fonts.googleapis.com/css2?family=Roboto:wght@400;500;700&amp;display=swap\" as=\"style\"/><link rel=\"stylesheet\" href=\"https://fonts.googleapis.com/css2?family=Roboto:wght@400;500;700&amp;display=swap\"/><meta charSet=\"utf-8\"/><meta name=\"application-name\" content=\"Dcard\"/><meta property=\"al:ios:app_name\" content=\"Dcard\"/><meta property=\"al:android:app_name\" content=\"Dcard\"/><meta name=\"apple-itunes-app\" content=\"app-id=951353454\"/><meta property=\"al:ios:app_store_id\" content=\"951353454\"/><meta property=\"al:android:package\" content=\"com.sparkslab.dcardreader\"/><link rel=\"manifest\" href=\"/_next/static/manifest-dcard.json\"/><link rel=\"icon\" type=\"image/png\" sizes=\"48x48\" href=\"/_next/static/media/dcard-icon-48-ed236519a9f1e19ecd7a05bbc43216c9.png\"/><link rel=\"icon\" type=\"image/png\" sizes=\"96x96\" href=\"/_next/static/media/dcard-icon-96-67d4c5f6a7cc6026406b70304936937d.png\"/><link rel=\"icon\" type=\"image/png\" sizes=\"144x144\" href=\"/_next/static/media/dcard-icon-144-f12595f1f04d1d78159ea1a26d952990.png\"/><link rel=\"icon\" type=\"image/png\" sizes=\"192x192\" href=\"/_next/static/media/dcard-icon-192-9f379614ba04e71a6c6c565457e0c389.png\"/><link rel=\"apple-touch-icon\" type=\"image/png\" sizes=\"57x57\" href=\"/_next/static/media/dcard-icon-57-6abc10d866571c5134884eab30bde2b0.png\"/><link rel=\"apple-touch-icon\" type=\"image/png\" sizes=\"72x72\" href=\"/_next/static/media/dcard-icon-72-29f99c18ac7c1c612d11d2a55b423607.png\"/><link rel=\"apple-touch-icon\" type=\"image/png\" sizes=\"76x76\" href=\"/_next/static/media/dcard-icon-76-74656fc06f60d610b228e1038a365eed.png\"/><link rel=\"apple-touch-icon\" type=\"image/png\" sizes=\"114x114\" href=\"/_next/static/media/dcard-icon-114-58a826f20cd08881308375de7b7ce582.png\"/><link rel=\"apple-touch-icon\" type=\"image/png\" sizes=\"120x120\" href=\"/_next/static/media/dcard-icon-120-00822c733e25ba05959c53cd12fafd04.png\"/><link rel=\"apple-touch-icon\" type=\"\n"
          ],
          "name": "stdout"
        }
      ]
    },
    {
      "cell_type": "code",
      "metadata": {
        "colab": {
          "base_uri": "https://localhost:8080/"
        },
        "id": "axQ-VF-tL9E3",
        "outputId": "f6709903-b0cb-4534-be30-eb73a2c41711"
      },
      "source": [
        "print(f'Request 取回之後該怎麼取出資料，資料型態是什麼？ => {type(r.text)}')"
      ],
      "execution_count": 16,
      "outputs": [
        {
          "output_type": "stream",
          "text": [
            "Request 取回之後該怎麼取出資料，資料型態是什麼？ => <class 'str'>\n"
          ],
          "name": "stdout"
        }
      ]
    },
    {
      "cell_type": "code",
      "metadata": {
        "id": "fE6d2iraZoIl"
      },
      "source": [
        "soup = BeautifulSoup(r.text,'html.parser')"
      ],
      "execution_count": 20,
      "outputs": []
    },
    {
      "cell_type": "code",
      "metadata": {
        "colab": {
          "base_uri": "https://localhost:8080/"
        },
        "id": "Gh0Yt4zjL9E3",
        "outputId": "f0182e22-ff9a-4511-c4ef-430b0b575ae7"
      },
      "source": [
        "print('為什麼要使用 BeatifulSoup 處理？處理後的型態是什麼？')\n",
        "print(f'使用BeautifulSoup可以修復含有未閉合標籤等錯誤的文件，還能利用find、select等function挑出想要的部分。,處理後的型態為{type(soup)}')\n"
      ],
      "execution_count": 21,
      "outputs": [
        {
          "output_type": "stream",
          "text": [
            "為什麼要使用 BeatifulSoup 處理？處理後的型態是什麼？\n",
            "使用BeautifulSoup可以修復含有未閉合標籤等錯誤的文件，還能利用find、select等function挑出想要的部分。,處理後的型態為<class 'bs4.BeautifulSoup'>\n"
          ],
          "name": "stdout"
        }
      ]
    },
    {
      "cell_type": "markdown",
      "metadata": {
        "id": "-zXYqOThL9E4"
      },
      "source": [
        "### 2. 知乎： https://www.zhihu.com/explore"
      ]
    },
    {
      "cell_type": "code",
      "metadata": {
        "colab": {
          "base_uri": "https://localhost:8080/"
        },
        "id": "qhn-4DaEL9E4",
        "outputId": "1fd36ce2-d04f-423b-a083-1015ba5e4bad"
      },
      "source": [
        "url = 'https://www.zhihu.com/explore'\n",
        "r = requests.get(url)\n",
        "r.encoding = 'utf-8'\n",
        "\n",
        "print(r.text[0:600])"
      ],
      "execution_count": 5,
      "outputs": [
        {
          "output_type": "stream",
          "text": [
            "<html>\r\n",
            "<head><title>403 Forbidden</title></head>\r\n",
            "<body bgcolor=\"white\">\r\n",
            "<center><h1>403 Forbidden</h1></center>\r\n",
            "<hr><center>openresty</center>\r\n",
            "</body>\r\n",
            "</html>\r\n",
            "\n"
          ],
          "name": "stdout"
        }
      ]
    },
    {
      "cell_type": "markdown",
      "metadata": {
        "id": "sAnt5jn0L9E4"
      },
      "source": [
        "### 3. 觀察一下知乎回來的資料好像有點怪怪的，該怎麼解決？"
      ]
    },
    {
      "cell_type": "code",
      "metadata": {
        "colab": {
          "base_uri": "https://localhost:8080/"
        },
        "id": "bnC88ZIzL9E4",
        "outputId": "c06eb569-3f25-4e19-e30e-3d45c01a548a"
      },
      "source": [
        "import requests\n",
        "url = 'https://www.zhihu.com/explore'\n",
        "headers = {\n",
        "    'User-agent':'Mozilla/5.0 (Linux; Android 6.0; Nexus 5 Build/MRA58N) AppleWebKit/537.36 (KHTML, like Gecko) Chrome/90.0.4430.212 Mobile Safari/537.36'\n",
        "}\n",
        "\n",
        "r = requests.get(url,headers=headers)\n",
        "\n",
        "r.encoding = 'utf-8'\n",
        "print(r.text[0:600])"
      ],
      "execution_count": 7,
      "outputs": [
        {
          "output_type": "stream",
          "text": [
            "<!DOCTYPE html>\n",
            "<html lang=\"zh-CN\" dropEffect=\"none\" class=\"no-js no-auth \">\n",
            "<head>\n",
            "<meta charset=\"utf-8\" />\n",
            "\n",
            "<meta http-equiv=\"X-ZA-Experiment\" content=\"default:None\">\n",
            "<title>发现 - 知乎</title>\n",
            "\n",
            "<meta name=\"apple-itunes-app\" content=\"app-id=432274380, app-argument=zhihu://explore\">\n",
            "\n",
            "\n",
            "<meta name=\"viewport\" content=\"width=device-width, initial-scale=1, maximum-scale=1\"/>\n",
            "<meta http-equiv=\"mobile-agent\" content=\"format=html5;url=https://www.zhihu.com/explore\">\n",
            "<meta id=\"znonce\" name=\"znonce\" content=\"116b2b0da59c4580aa49e268c4bc4b63\">\n",
            "\n",
            "\n",
            "\n",
            "<link rel=\"apple-touch-icon\" href=\"https://static.zhihu.com/s\n"
          ],
          "name": "stdout"
        }
      ]
    },
    {
      "cell_type": "code",
      "metadata": {
        "id": "wXdKiYTzL9E5"
      },
      "source": [
        ""
      ],
      "execution_count": null,
      "outputs": []
    },
    {
      "cell_type": "code",
      "metadata": {
        "id": "JUrDA2-1L9E5"
      },
      "source": [
        ""
      ],
      "execution_count": null,
      "outputs": []
    }
  ]
}